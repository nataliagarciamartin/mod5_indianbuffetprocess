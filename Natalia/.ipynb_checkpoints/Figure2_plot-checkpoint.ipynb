{
 "cells": [
  {
   "cell_type": "code",
   "execution_count": 2,
   "metadata": {},
   "outputs": [],
   "source": [
    "import numpy as np\n",
    "import pandas as pd\n",
    "import seaborn as sns \n",
    "import matplotlib.pyplot as plt\n",
    "import scipy as sp\n",
    "from scipy.io import mmread\n",
    "import mpmath as mp\n",
    "from scipy.optimize import minimize"
   ]
  },
  {
   "cell_type": "code",
   "execution_count": 4,
   "metadata": {},
   "outputs": [],
   "source": [
    "def ibp_3param(N, sigma, c=1, alpha=1):\n",
    "    k1 = int(np.random.poisson(alpha, 1))\n",
    "    Z = np.zeros((N, k1))\n",
    "    Z[0, :] = 1 #the first k1 dishes\n",
    "    for n in range(1, N):\n",
    "        for d in range(Z.shape[1]):  # number of columns/dishes\n",
    "            p = np.random.uniform(0, 1, 1)\n",
    "            m = sum(Z[:, d])\n",
    "            if p < (m - sigma) / (c + n - 1):\n",
    "                Z[n, d] = 1\n",
    "        k2 = np.random.poisson((alpha * mp.gamma(1 + c) * mp.gamma(n - 1 + c + sigma)) / (mp.gamma(n + c) * mp.gamma(c + sigma)))\n",
    "        Z2 = np.zeros((N, k2))\n",
    "        Z2[n,:] = 1\n",
    "        Z = np.concatenate((Z, Z2), axis=1)\n",
    "    return(Z)"
   ]
  },
  {
   "cell_type": "code",
   "execution_count": 6,
   "metadata": {},
   "outputs": [
    {
     "data": {
      "text/plain": [
       "[0, 0, 0, 0, 0, 0, 0, 0, 0, 0]"
      ]
     },
     "execution_count": 6,
     "metadata": {},
     "output_type": "execute_result"
    }
   ],
   "source": [
    "sigma02 = [0, 0, 0, 0, 0, 0, 0, 0, 0, 0]\n",
    "people = [10, 20, 50, 100, 200, 500, 1000, 2000, 5000, 10000]\n",
    "\n",
    "for i in range(len(people)):\n",
    "    sigma0[i] = ibp_3param(N = people[i], sigma= 0.2, c=1, alpha=1).shape[1]\n",
    "sigma02"
   ]
  },
  {
   "cell_type": "code",
   "execution_count": null,
   "metadata": {},
   "outputs": [],
   "source": []
  },
  {
   "cell_type": "code",
   "execution_count": 3,
   "metadata": {},
   "outputs": [
    {
     "data": {
      "image/png": "[encoded data removed]",
      "text/plain": [
       "<Figure size 432x288 with 1 Axes>"
      ]
     },
     "metadata": {},
     "output_type": "display_data"
    }
   ],
   "source": [
    "x = [10, 20, 50, 100, 200, 500, 1000, 2000, 5000, 10000]\n",
    "\n",
    "values_0 = [2, 1, 9, 8, 8, 10, 14, 8, 12, 11]\n",
    "values_0_rep = [3, 2, 6, 8, 11, 8, 5, 8, 7, 12]\n",
    "\n",
    "values_02 = [1, 5, 6, 7, 16, 11, 17, 26, 19, 35]\n",
    "\n",
    "values_05 = [3, 7, 19, 17, 30, 35, 69, 100, 151, 225]\n",
    "\n",
    "#values_08 = [10, 11, 43, 46, 95, 188, 335]\n",
    "\n",
    "plt.plot(x, values_0)\n",
    "plt.plot(x, values_02)\n",
    "plt.plot(x, values_05)\n",
    "plt.show()"
   ]
  }
 ],
 "metadata": {
  "kernelspec": {
   "display_name": "Python 3",
   "language": "python",
   "name": "python3"
  },
  "language_info": {
   "codemirror_mode": {
    "name": "ipython",
    "version": 3
   },
   "file_extension": ".py",
   "mimetype": "text/x-python",
   "name": "python",
   "nbconvert_exporter": "python",
   "pygments_lexer": "ipython3",
   "version": "3.6.8"
  }
 },
 "nbformat": 4,
 "nbformat_minor": 2
}
