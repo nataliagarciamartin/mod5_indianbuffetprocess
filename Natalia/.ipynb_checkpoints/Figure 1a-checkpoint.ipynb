{
 "cells": [
  {
   "cell_type": "code",
   "execution_count": 6,
   "metadata": {},
   "outputs": [],
   "source": [
    "import numpy as np\n",
    "import pandas as pd\n",
    "import seaborn as sns \n",
    "import matplotlib.pyplot as plt\n",
    "import scipy as sp\n",
    "from scipy.io import mmread\n",
    "import mpmath as mp\n",
    "from scipy.optimize import minimize\n",
    "%matplotlib inline"
   ]
  },
  {
   "cell_type": "code",
   "execution_count": 39,
   "metadata": {},
   "outputs": [],
   "source": [
    "def ibp_3param(N, sigma, c=1, alpha=1):\n",
    "    k1 = int(np.random.poisson(alpha, 1))\n",
    "    Z = np.zeros((N, k1))\n",
    "    Z[0, :] = 1 #the first k1 dishes\n",
    "    for n in range(1, N):\n",
    "        for d in range(Z.shape[1]):  # number of columns/dishes\n",
    "            p = np.random.uniform(0, 1, 1)\n",
    "            m = sum(Z[:, d])\n",
    "            if p < (m - sigma) / (c + n - 1):\n",
    "                Z[n, d] = 1\n",
    "        k2 = np.random.poisson((alpha * mp.gamma(1 + c) * mp.gamma(n - 1 + c + sigma)) / (mp.gamma(n + c) * mp.gamma(c + sigma)))\n",
    "        Z2 = np.zeros((N, k2))\n",
    "        Z2[n,:] = 1\n",
    "        Z = np.concatenate((Z, Z2), axis=1)\n",
    "    return(Z)"
   ]
  },
  {
   "cell_type": "code",
   "execution_count": 63,
   "metadata": {},
   "outputs": [],
   "source": [
    "sigma05 = [0, 0, 0, 0, 0, 0, 0]\n",
    "people = [10, 20, 50, 100, 200, 500, 1000]\n",
    "\n",
    "for i in range(len(people)):\n",
    "    sigma05[i] = ibp_3param(N = people[i], sigma= 0.5, c=1, alpha=1).shape[1]"
   ]
  },
  {
   "cell_type": "code",
   "execution_count": 64,
   "metadata": {},
   "outputs": [
    {
     "data": {
      "text/plain": [
       "[3, 7, 19, 17, 30, 35, 69]"
      ]
     },
     "execution_count": 64,
     "metadata": {},
     "output_type": "execute_result"
    }
   ],
   "source": [
    "sigma05"
   ]
  },
  {
   "cell_type": "code",
   "execution_count": 70,
   "metadata": {},
   "outputs": [
    {
     "data": {
      "text/plain": [
       "[100, 151, 225, 0, 0, 0, 0]"
      ]
     },
     "execution_count": 70,
     "metadata": {},
     "output_type": "execute_result"
    }
   ],
   "source": [
    "sigma05_2 = [0, 0, 0]\n",
    "people = [2000, 5000, 10000]\n",
    "\n",
    "for i in range(len(people)):\n",
    "    sigma05_2[i] = ibp_3param(N = people[i], sigma= 0.5, c=1, alpha=1).shape[1]\n",
    "sigma05_2"
   ]
  },
  {
   "cell_type": "code",
   "execution_count": 65,
   "metadata": {},
   "outputs": [
    {
     "data": {
      "text/plain": [
       "[10, 11, 43, 46, 95, 188, 335]"
      ]
     },
     "execution_count": 65,
     "metadata": {},
     "output_type": "execute_result"
    }
   ],
   "source": [
    "sigma08 = [0, 0, 0, 0, 0, 0, 0]\n",
    "people = [10, 20, 50, 100, 200, 500, 1000]\n",
    "\n",
    "for i in range(len(people)):\n",
    "    sigma08[i] = ibp_3param(N = people[i], sigma= 0.8, c=1, alpha=1).shape[1]\n",
    "sigma08"
   ]
  },
  {
   "cell_type": "code",
   "execution_count": null,
   "metadata": {},
   "outputs": [],
   "source": [
    "sigma08_2 = [0, 0, 0]\n",
    "people = [2000, 5000, 10000]\n",
    "\n",
    "for i in range(len(people)):\n",
    "    sigma08_2[i] = ibp_3param(N = people[i], sigma= 0.8, c=1, alpha=1).shape[1]\n",
    "sigma08_2"
   ]
  },
  {
   "cell_type": "code",
   "execution_count": 66,
   "metadata": {},
   "outputs": [
    {
     "data": {
      "text/plain": [
       "[2, 1, 9, 8, 8, 10, 14]"
      ]
     },
     "execution_count": 66,
     "metadata": {},
     "output_type": "execute_result"
    }
   ],
   "source": [
    "sigma0 = [0, 0, 0, 0, 0, 0, 0]\n",
    "people = [10, 20, 50, 100, 200, 500, 1000]\n",
    "\n",
    "for i in range(len(people)):\n",
    "    sigma0[i] = ibp_3param(N = people[i], sigma= 0, c=1, alpha=1).shape[1]\n",
    "sigma0"
   ]
  },
  {
   "cell_type": "code",
   "execution_count": 69,
   "metadata": {},
   "outputs": [
    {
     "data": {
      "text/plain": [
       "[8, 12, 11]"
      ]
     },
     "execution_count": 69,
     "metadata": {},
     "output_type": "execute_result"
    }
   ],
   "source": [
    "sigma0_2 = [0, 0, 0]\n",
    "people = [2000, 5000, 10000]\n",
    "\n",
    "for i in range(len(people)):\n",
    "    sigma0_2[i] = ibp_3param(N = people[i], sigma= 0, c=1, alpha=1).shape[1]\n",
    "sigma0_2"
   ]
  },
  {
   "cell_type": "code",
   "execution_count": 67,
   "metadata": {},
   "outputs": [
    {
     "data": {
      "text/plain": [
       "[1, 5, 6, 7, 16, 11, 17]"
      ]
     },
     "execution_count": 67,
     "metadata": {},
     "output_type": "execute_result"
    }
   ],
   "source": [
    "sigma02 = [0, 0, 0, 0, 0, 0, 0]\n",
    "people = [10, 20, 50, 100, 200, 500, 1000]\n",
    "\n",
    "for i in range(len(people)):\n",
    "    sigma02[i] = ibp_3param(N = people[i], sigma= 0.2, c=1, alpha=1).shape[1]\n",
    "sigma02"
   ]
  },
  {
   "cell_type": "code",
   "execution_count": 68,
   "metadata": {},
   "outputs": [
    {
     "data": {
      "text/plain": [
       "[26, 19, 35]"
      ]
     },
     "execution_count": 68,
     "metadata": {},
     "output_type": "execute_result"
    }
   ],
   "source": [
    "sigma02_2 = [0, 0, 0]\n",
    "people = [2000, 5000, 10000]\n",
    "\n",
    "for i in range(len(people)):\n",
    "    sigma02_2[i] = ibp_3param(N = people[i], sigma= 0.2, c=1, alpha=1).shape[1]\n",
    "sigma02_2"
   ]
  },
  {
   "cell_type": "code",
   "execution_count": null,
   "metadata": {},
   "outputs": [],
   "source": [
    "x = [10, 20, 50, 100, 200, 500, 1000, 2000, 5000, 10000]\n",
    "values_0 = [2, 1, 9, 8, 8, 10, 14, 8, 12, 11]\n",
    "values_02 = [1, 5, 6, 7, 16, 11, 17, 26, 19, 35]\n",
    "values_05 = [3, 7, 19, 17, 30, 35, 69, 100, 151, 225]\n",
    "values_08 = [10, 11, 43, 46, 95, 188, 335]"
   ]
  }
 ],
 "metadata": {
  "kernelspec": {
   "display_name": "Python 3",
   "language": "python",
   "name": "python3"
  },
  "language_info": {
   "codemirror_mode": {
    "name": "ipython",
    "version": 3
   },
   "file_extension": ".py",
   "mimetype": "text/x-python",
   "name": "python",
   "nbconvert_exporter": "python",
   "pygments_lexer": "ipython3",
   "version": "3.6.8"
  }
 },
 "nbformat": 4,
 "nbformat_minor": 2
}
