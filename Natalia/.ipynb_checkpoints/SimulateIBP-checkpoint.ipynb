{
 "cells": [
  {
   "cell_type": "markdown",
   "metadata": {},
   "source": [
    "# 1 parameter IBP"
   ]
  },
  {
   "cell_type": "code",
   "execution_count": 1,
   "metadata": {},
   "outputs": [],
   "source": [
    "import numpy as np\n",
    "import pandas as pd\n",
    "import seaborn as sns \n",
    "import matplotlib.pyplot as plt\n",
    "import scipy as sp\n",
    "from scipy.io import mmread\n",
    "import mpmath as mp\n",
    "from scipy.optimize import minimize\n",
    "%matplotlib inline"
   ]
  },
  {
   "cell_type": "code",
   "execution_count": 98,
   "metadata": {},
   "outputs": [],
   "source": [
    "N = 100\n",
    "alpha = 1\n",
    "\n",
    "k1 = int(np.random.poisson(alpha, 1))\n",
    "Z = np.zeros((N, k1))\n",
    "Z[0, :] = 1 #the first k1 dishes\n",
    "\n",
    "for n in range(1, N):\n",
    "  for d in range(Z.shape[1]):  # number of columns/dishes\n",
    "     p = np.random.uniform(0, 1, 1)\n",
    "     m = sum(Z[:, d])\n",
    "     if p < m/n:\n",
    "        Z[n, d] = 1\n",
    "  k2 = np.random.poisson(alpha/n)\n",
    "  Z2 = np.zeros((N, k2))\n",
    "  Z2[n,:] = 1\n",
    "  Z = np.concatenate((Z, Z2), axis=1)"
   ]
  },
  {
   "cell_type": "markdown",
   "metadata": {},
   "source": [
    "# 2 parameter IBP"
   ]
  },
  {
   "cell_type": "code",
   "execution_count": 102,
   "metadata": {},
   "outputs": [],
   "source": [
    "N = 100\n",
    "beta = 1\n",
    "alpha = 1\n",
    "\n",
    "k1 = int(np.random.poisson(alpha, 1))\n",
    "Z = np.zeros((N, k1))\n",
    "Z[0, :] = 1 #the first k1 dishes\n",
    "\n",
    "for n in range(1, N):\n",
    "  for d in range(Z.shape[1]):  # number of columns/dishes\n",
    "     p = np.random.uniform(0, 1, 1)\n",
    "     m = sum(Z[:, d])\n",
    "     if p < m/(beta + n -1):\n",
    "        Z[n, d] = 1\n",
    "  k2 = np.random.poisson((alpha*beta)/(beta + n -1))\n",
    "  Z2 = np.zeros((N, k2))\n",
    "  Z2[n,:] = 1\n",
    "  Z = np.concatenate((Z, Z2), axis=1)"
   ]
  },
  {
   "cell_type": "markdown",
   "metadata": {},
   "source": [
    "# 3 parameter IBP"
   ]
  },
  {
   "cell_type": "code",
   "execution_count": 119,
   "metadata": {},
   "outputs": [],
   "source": [
    "N=10\n",
    "c = 1\n",
    "sigma = 0.8\n",
    "alpha = 1\n",
    "\n",
    "k1 = int(np.random.poisson(alpha, 1))\n",
    "Z = np.zeros((N, k1))\n",
    "Z[0, :] = 1 #the first k1 dishes\n",
    "\n",
    "for n in range(1, N):\n",
    "  for d in range(Z.shape[1]):  # number of columns/dishes\n",
    "     p = np.random.uniform(0, 1, 1)\n",
    "     m = sum(Z[:, d])\n",
    "     if p < (m - sigma) / (c + n - 1):\n",
    "        Z[n, d] = 1\n",
    "  k2 = np.random.poisson((alpha * mp.gamma(1 + c) * mp.gamma(n - 1 + c + sigma)) / (mp.gamma(n + c) * mp.gamma(c + sigma)))\n",
    "  Z2 = np.zeros((N, k2))\n",
    "  Z2[n,:] = 1\n",
    "  Z = np.concatenate((Z, Z2), axis=1)\n"
   ]
  },
  {
   "cell_type": "code",
   "execution_count": null,
   "metadata": {},
   "outputs": [],
   "source": [
    "Z.shape[1] #number of dishes tried given by the number of (non-zero) columns"
   ]
  },
  {
   "cell_type": "code",
   "execution_count": 120,
   "metadata": {},
   "outputs": [],
   "source": [
    "def ibp_3param(N, sigma, c=1, alpha=1):\n",
    "    k1 = int(np.random.poisson(alpha, 1))\n",
    "    Z = np.zeros((N, k1))\n",
    "    Z[0, :] = 1 #the first k1 dishes\n",
    "    for n in range(1, N):\n",
    "        for d in range(Z.shape[1]):  # number of columns/dishes\n",
    "            p = np.random.uniform(0, 1, 1)\n",
    "            m = sum(Z[:, d])\n",
    "            if p < (m - sigma) / (c + n - 1):\n",
    "                Z[n, d] = 1\n",
    "        k2 = np.random.poisson((alpha * mp.gamma(1 + c) * mp.gamma(n - 1 + c + sigma)) / (mp.gamma(n + c) * mp.gamma(c + sigma)))\n",
    "        Z2 = np.zeros((N, k2))\n",
    "        Z2[n,:] = 1\n",
    "        Z = np.concatenate((Z, Z2), axis=1)\n",
    "    return(Z)"
   ]
  },
  {
   "cell_type": "code",
   "execution_count": 163,
   "metadata": {},
   "outputs": [],
   "source": [
    "def stableibprnd(alpha, sigma, c, N):\n",
    "    Jmax = 3000; \n",
    "    Z = np.zeros((N, Jmax))\n",
    "    m = np.zeros(Jmax) # col sums\n",
    "\n",
    "    # First object\n",
    "\n",
    "    K = int(np.random.poisson(alpha, 1))\n",
    "    #print(K)\n",
    "    Z[0, range(K)] = 1\n",
    "    m[range(K)] = 1\n",
    "    for n in range(1, N):\n",
    "        # Each object picks feature j w.p. (m_j-sigma)/(i-1 + c)\n",
    "        Z[n, range(K)] = ( np.random.uniform(0, 1, K) < ((m[range(K)]-sigma)/(n  + c)) )\n",
    "        # New features \n",
    "        Knew = np.random.poisson((alpha * mp.gamma(1 + c) * mp.gamma(n + c + sigma)) / (mp.gamma(n + 1 + c) * mp.gamma(c + sigma)))\n",
    "        if Knew>0:\n",
    "            Z[n, range(K,K+Knew)] = 1\n",
    "            m[range(K,K+Knew)] = 1  \n",
    "        # Update the counts\n",
    "        m[range(K)] = m[range(K)]  + Z[n, range(K)]\n",
    "        #print(Knew)\n",
    "          \n",
    "        K = K + Knew   \n",
    "    Z = Z[:, range(K)]\n",
    "    return(Z)"
   ]
  },
  {
   "cell_type": "code",
   "execution_count": 158,
   "metadata": {},
   "outputs": [
    {
     "data": {
      "text/plain": [
       "mpf('2253.7591804753251')"
      ]
     },
     "execution_count": 158,
     "metadata": {},
     "output_type": "execute_result"
    }
   ],
   "source": [
    "alpha=1\n",
    "sigma=0.5\n",
    "c=1\n",
    "\n",
    "sum([(alpha * mp.gamma(1 + c) * mp.gamma(n + c + sigma)) / (mp.gamma(n + 1 + c) * mp.gamma(c + sigma)) for n in range(1,1000000)])"
   ]
  },
  {
   "cell_type": "markdown",
   "metadata": {},
   "source": [
    "# Figure 1b"
   ]
  },
  {
   "cell_type": "code",
   "execution_count": null,
   "metadata": {},
   "outputs": [],
   "source": [
    "unique_elements, counts"
   ]
  },
  {
   "cell_type": "code",
   "execution_count": 139,
   "metadata": {},
   "outputs": [
    {
     "data": {
      "text/plain": [
       "[<matplotlib.lines.Line2D at 0x7fd5a16b6a90>]"
      ]
     },
     "execution_count": 139,
     "metadata": {},
     "output_type": "execute_result"
    },
    {
     "data": {
      "image/png": "[encoded data removed]",
      "text/plain": [
       "<Figure size 432x288 with 1 Axes>"
      ]
     },
     "metadata": {},
     "output_type": "display_data"
    }
   ],
   "source": [
    "# linear scale, N = 10000\n",
    "\n",
    "Z = ibp_3param(N = 10000, sigma = 0.5, c = 1, alpha = 1)\n",
    "a = Z.sum(axis=0)\n",
    "unique_elements, counts = np.unique(a, return_counts=True)\n",
    "plt.plot(unique_elements, counts, \"ro\")"
   ]
  },
  {
   "cell_type": "code",
   "execution_count": 140,
   "metadata": {},
   "outputs": [
    {
     "data": {
      "text/plain": [
       "[<matplotlib.lines.Line2D at 0x7fd5a160de48>]"
      ]
     },
     "execution_count": 140,
     "metadata": {},
     "output_type": "execute_result"
    },
    {
     "data": {
      "image/png": "[encoded data removed]",
      "text/plain": [
       "<Figure size 432x288 with 1 Axes>"
      ]
     },
     "metadata": {},
     "output_type": "display_data"
    }
   ],
   "source": [
    "# log log scale, N = 10000\n",
    "\n",
    "plt.plot(np.log(unique_elements), np.log(counts), \"ro\")"
   ]
  },
  {
   "cell_type": "code",
   "execution_count": 165,
   "metadata": {},
   "outputs": [
    {
     "data": {
      "text/plain": [
       "Text(0,0.5,'Frequency of dishes')"
      ]
     },
     "execution_count": 165,
     "metadata": {},
     "output_type": "execute_result"
    },
    {
     "data": {
      "image/png": "[encoded data removed]",
      "text/plain": [
       "<Figure size 432x288 with 1 Axes>"
      ]
     },
     "metadata": {},
     "output_type": "display_data"
    }
   ],
   "source": [
    "# linear scale, N = 1000000\n",
    "\n",
    "Z2 = stableibprnd(N = 500000, sigma = 0.5, c = 1, alpha = 1)\n",
    "a2 = Z2.sum(axis=0)\n",
    "unique_elements2, counts2 = np.unique(a2, return_counts=True)\n",
    "plt.plot(unique_elements2, counts2, \"ro\")\n",
    "plt.yscale(\"log\")\n",
    "plt.xscale(\"log\")\n",
    "plt.xlabel(\"Number of customers trying each dish\")\n",
    "plt.ylabel(\"Frequency of dishes\")"
   ]
  },
  {
   "cell_type": "code",
   "execution_count": 152,
   "metadata": {},
   "outputs": [
    {
     "ename": "MemoryError",
     "evalue": "",
     "output_type": "error",
     "traceback": [
      "\u001b[0;31m---------------------------------------------------------------------------\u001b[0m",
      "\u001b[0;31mMemoryError\u001b[0m                               Traceback (most recent call last)",
      "\u001b[0;32m<ipython-input-152-dfa6e3fd0f09>\u001b[0m in \u001b[0;36m<module>\u001b[0;34m\u001b[0m\n\u001b[0;32m----> 1\u001b[0;31m \u001b[0mnp\u001b[0m\u001b[0;34m.\u001b[0m\u001b[0mzeros\u001b[0m\u001b[0;34m(\u001b[0m\u001b[0;34m(\u001b[0m\u001b[0;36m100000\u001b[0m\u001b[0;34m,\u001b[0m\u001b[0;36m100000\u001b[0m\u001b[0;34m)\u001b[0m\u001b[0;34m)\u001b[0m\u001b[0;34m\u001b[0m\u001b[0;34m\u001b[0m\u001b[0m\n\u001b[0m",
      "\u001b[0;31mMemoryError\u001b[0m: "
     ]
    }
   ],
   "source": [
    "np.zeros((100000,100000))"
   ]
  },
  {
   "cell_type": "code",
   "execution_count": null,
   "metadata": {},
   "outputs": [],
   "source": []
  }
 ],
 "metadata": {
  "kernelspec": {
   "display_name": "Python 3",
   "language": "python",
   "name": "python3"
  },
  "language_info": {
   "codemirror_mode": {
    "name": "ipython",
    "version": 3
   },
   "file_extension": ".py",
   "mimetype": "text/x-python",
   "name": "python",
   "nbconvert_exporter": "python",
   "pygments_lexer": "ipython3",
   "version": "3.6.8"
  }
 },
 "nbformat": 4,
 "nbformat_minor": 2
}
