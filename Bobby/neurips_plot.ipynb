{
 "cells": [
  {
   "cell_type": "code",
   "execution_count": 53,
   "metadata": {},
   "outputs": [],
   "source": [
    "import numpy as np\n",
    "import pandas as pd\n",
    "import seaborn as sns \n",
    "import matplotlib.pyplot as plt\n",
    "import scipy as sp\n",
    "from scipy.io import mmread\n",
    "import mpmath as mp\n",
    "from scipy.optimize import minimize\n",
    "import time\n",
    "%matplotlib inline\n",
    "\n",
    "import sys\n",
    "\n",
    "from scipy.sparse import csr_matrix\n",
    "\n",
    "import random\n",
    "from collections import Counter"
   ]
  },
  {
   "cell_type": "code",
   "execution_count": 35,
   "metadata": {},
   "outputs": [],
   "source": [
    "# import the neurips data and set data to be binary\n",
    "\n",
    "test_mat = mmread(\"../data/nipspapersmatrix.mtx\")\n",
    "\n",
    "test_mat.data = np.ones(test_mat.data.size) # change all non-zero values to 1"
   ]
  },
  {
   "cell_type": "code",
   "execution_count": 6,
   "metadata": {},
   "outputs": [],
   "source": [
    "def csr_vappend(a,b):\n",
    "    \"\"\" Takes in 2 csr_matrices and appends the second one to the bottom of the first one. \n",
    "    Much faster than scipy.sparse.vstack but assumes the type to be csr and overwrites\n",
    "    the first matrix instead of copying it. The data, indices, and indptr still get copied.\"\"\"\n",
    "\n",
    "    a.data = np.hstack((a.data,b.data))\n",
    "    a.indices = np.hstack((a.indices,b.indices))\n",
    "    a.indptr = np.hstack((a.indptr,(b.indptr + a.nnz)[1:]))\n",
    "    a._shape = (a.shape[0]+b.shape[0],b.shape[1])\n",
    "    return(a)\n",
    "\n",
    "def stableibprnd(alpha, sigma, c, N, Jmax):\n",
    "    Z = np.zeros((1, Jmax))\n",
    "    m = np.zeros(Jmax) # col sums\n",
    "\n",
    "    # First object\n",
    "    \n",
    "    K = int(np.random.poisson(alpha, 1))\n",
    "    #print(K)\n",
    "    Z[0, range(K)] = 1\n",
    "    Z = csr_matrix(Z)\n",
    "    m[range(K)] = 1\n",
    "    for n in range(1, N):\n",
    "        vec = np.zeros((1, Jmax))\n",
    "        # Each object picks feature j w.p. (m_j-sigma)/(i-1 + c)\n",
    "        vec[0,range(K)] = ( np.random.uniform(0, 1, K) < ((m[range(K)]-sigma)/(n  + c)) )\n",
    "        # New features\n",
    "        Knew = np.random.poisson((alpha * mp.gamma(1 + c) * mp.gamma(n + c + sigma)) / (mp.gamma(n + 1 + c) * mp.gamma(c + sigma)))\n",
    "        if Knew>0:\n",
    "            vec[0, range(K,K+Knew)] = 1\n",
    "            m[range(K,K+Knew)] = 1\n",
    "    # Update the counts\n",
    "        m[range(K)] = m[range(K)]  + vec[0, range(K)]\n",
    "        #print(Knew)\n",
    "\n",
    "        K = K + Knew\n",
    "        vec = csr_matrix(vec)\n",
    "        csr_vappend(Z, vec)\n",
    "    return(Z)"
   ]
  },
  {
   "cell_type": "code",
   "execution_count": 282,
   "metadata": {},
   "outputs": [],
   "source": [
    "a = stableibprnd(10,0.45,0.2,10,1000)"
   ]
  },
  {
   "cell_type": "code",
   "execution_count": 279,
   "metadata": {},
   "outputs": [
    {
     "name": "stdout",
     "output_type": "stream",
     "text": [
      "500\n",
      "1000\n",
      "1500\n",
      "2000\n",
      "2500\n",
      "3000\n",
      "3500\n",
      "4000\n",
      "4500\n",
      "5000\n",
      "5500\n"
     ]
    }
   ],
   "source": [
    "Z_stable = stableibprnd(alpha = 721, c = -0.19, sigma = 0.71, N = 5806, Jmax = 350000)"
   ]
  },
  {
   "cell_type": "code",
   "execution_count": 288,
   "metadata": {},
   "outputs": [
    {
     "name": "stdout",
     "output_type": "stream",
     "text": [
      "500\n",
      "1000\n",
      "1500\n",
      "2000\n",
      "2500\n",
      "3000\n",
      "3500\n",
      "4000\n",
      "4500\n",
      "5000\n",
      "5500\n"
     ]
    }
   ],
   "source": [
    "Z_unstable = stableibprnd(alpha = 1168, c = 60.3, sigma = 0, N = 5806, Jmax = 400000)"
   ]
  },
  {
   "cell_type": "code",
   "execution_count": 241,
   "metadata": {},
   "outputs": [
    {
     "data": {
      "text/plain": [
       "mpf('322973.13245051116')"
      ]
     },
     "execution_count": 241,
     "metadata": {},
     "output_type": "execute_result"
    }
   ],
   "source": [
    "alpha = 1168\n",
    "sigma = 0\n",
    "c = 60.3\n",
    "sum([alpha *mp.gamma(1 + c) * mp.gamma(i - 1 + c + sigma) / (mp.gamma(i + c) * mp.gamma(c + sigma)) for i in range(1,5806)])"
   ]
  },
  {
   "cell_type": "code",
   "execution_count": 7,
   "metadata": {},
   "outputs": [],
   "source": [
    "def neurips_mean_plotter_vec(param,n):\n",
    "    alpha = param[0]\n",
    "    c = param[1]\n",
    "    sigma = param[2]\n",
    "    cumsum_dict={}\n",
    "    for i in range(n):\n",
    "        print(i)\n",
    "        test_mat = stableibprnd(alpha, sigma, c, 5806, 400000)\n",
    "        reused_words = set()\n",
    "        cumsum_name = []\n",
    "        for row in range(test_mat.shape[0]):\n",
    "            word_indices = set(test_mat.indices[test_mat.indptr[row]:test_mat.indptr[row+1]])\n",
    "            new_words = word_indices - set.intersection(word_indices, reused_words)\n",
    "            if len(cumsum_name)>0:\n",
    "                cumsum_name.append(cumsum_name[-1] + len(new_words))\n",
    "            else:\n",
    "                cumsum_name.append(len(new_words))\n",
    "            reused_words.update(new_words)\n",
    "        if len(cumsum_name)<600:\n",
    "            cumsum_name = cumsum_name + [float('Nan')]*(600-len(cumsum_name))\n",
    "        cumsum_dict[i] = np.array(cumsum_name) \n",
    "    \n",
    "    plot_array = np.array([value for key,value in cumsum_dict.items() if key != 'comp.os.ms-windows.misc'])\n",
    "    mean_vec = np.mean(plot_array, axis=0)\n",
    "    return(mean_vec)\n",
    "    "
   ]
  },
  {
   "cell_type": "code",
   "execution_count": 8,
   "metadata": {},
   "outputs": [
    {
     "name": "stdout",
     "output_type": "stream",
     "text": [
      "0\n",
      "1\n",
      "2\n",
      "3\n",
      "4\n"
     ]
    }
   ],
   "source": [
    "stable_mat = neurips_mean_plotter_vec([721,-0.19, 0.71], 5)"
   ]
  },
  {
   "cell_type": "code",
   "execution_count": 12,
   "metadata": {},
   "outputs": [
    {
     "data": {
      "text/plain": [
       "5806"
      ]
     },
     "execution_count": 12,
     "metadata": {},
     "output_type": "execute_result"
    }
   ],
   "source": [
    "len(stable_mat)"
   ]
  },
  {
   "cell_type": "code",
   "execution_count": 13,
   "metadata": {},
   "outputs": [
    {
     "data": {
      "text/plain": [
       "5806"
      ]
     },
     "execution_count": 13,
     "metadata": {},
     "output_type": "execute_result"
    }
   ],
   "source": [
    "len(unstable_mat)"
   ]
  },
  {
   "cell_type": "code",
   "execution_count": 9,
   "metadata": {},
   "outputs": [
    {
     "name": "stdout",
     "output_type": "stream",
     "text": [
      "0\n",
      "1\n",
      "2\n",
      "3\n",
      "4\n"
     ]
    }
   ],
   "source": [
    "unstable_mat = neurips_mean_plotter_vec([1168, 60.3, 0], 5)"
   ]
  },
  {
   "cell_type": "code",
   "execution_count": 16,
   "metadata": {},
   "outputs": [],
   "source": [
    "# hacky way, the data is present top to bottom, left to right, so new words correspond to when the column index changes\n",
    "new_word_ind = np.append(0,np.where(test_mat.col - np.roll(test_mat.col,1)>0)[0])\n",
    "# find the rows/documents where the new words occur\n",
    "new_word_rows = test_mat.row[new_word_ind]\n",
    "# find the table of valuies in the new_word_rows\n",
    "freq = Counter(new_word_rows)\n",
    "# sort the rows so that row labelled 0 is counted first"
   ]
  },
  {
   "cell_type": "code",
   "execution_count": 96,
   "metadata": {},
   "outputs": [
    {
     "name": "stdout",
     "output_type": "stream",
     "text": [
      "0\n",
      "1\n",
      "2\n",
      "3\n",
      "4\n",
      "5\n",
      "6\n",
      "7\n",
      "8\n",
      "9\n",
      "10\n",
      "11\n",
      "12\n",
      "13\n",
      "14\n",
      "15\n",
      "16\n",
      "17\n",
      "18\n",
      "19\n"
     ]
    }
   ],
   "source": [
    "# for permutation\n",
    "test_mat = mmread(\"../data/nipspapersmatrix.mtx\")\n",
    "\n",
    "test_mat.data = np.ones(test_mat.data.size) # change all non-zero values to 1\n",
    "test_mat = test_mat.tocsr()\n",
    "cumsum_dict={}\n",
    "index = np.arange(test_mat.shape[0])\n",
    "for i in range(20):\n",
    "    print(i)\n",
    "    np.random.seed(i)\n",
    "    np.random.shuffle(index)\n",
    "    reused_words = set()\n",
    "    cumsum_name = []\n",
    "    for row in index:\n",
    "        word_indices = set(test_mat.indices[test_mat.indptr[row]:test_mat.indptr[row+1]])\n",
    "        new_words = word_indices - set.intersection(word_indices, reused_words)\n",
    "        if len(cumsum_name)>0:\n",
    "            cumsum_name.append(cumsum_name[-1] + len(new_words))\n",
    "        else:\n",
    "            cumsum_name.append(len(new_words))\n",
    "        reused_words.update(new_words)\n",
    "    if len(cumsum_name)<600:\n",
    "        cumsum_name = cumsum_name + [float('Nan')]*(600-len(cumsum_name))\n",
    "    cumsum_dict[i] = np.array(cumsum_name) \n",
    "\n",
    "plot_array = np.array([value for key,value in cumsum_dict.items() if key != 'comp.os.ms-windows.misc'])\n",
    "mean_vec = np.mean(plot_array, axis=0)"
   ]
  },
  {
   "cell_type": "code",
   "execution_count": 84,
   "metadata": {},
   "outputs": [
    {
     "data": {
      "text/plain": [
       "[<matplotlib.lines.Line2D at 0x7f3d06c43b00>]"
      ]
     },
     "execution_count": 84,
     "metadata": {},
     "output_type": "execute_result"
    },
    {
     "data": {
      "image/png": "[encoded data removed]",
      "text/plain": [
       "<Figure size 432x288 with 1 Axes>"
      ]
     },
     "metadata": {},
     "output_type": "display_data"
    }
   ],
   "source": [
    "plt.plot(cumsum_dict[1]-cumsum_dict[0])"
   ]
  },
  {
   "cell_type": "code",
   "execution_count": 102,
   "metadata": {},
   "outputs": [
    {
     "data": {
      "image/png": "[encoded data removed]",
      "text/plain": [
       "<Figure size 432x288 with 1 Axes>"
      ]
     },
     "metadata": {},
     "output_type": "display_data"
    }
   ],
   "source": [
    "sns.set()\n",
    "fig = plt.figure()\n",
    "ax = fig.add_subplot(111)\n",
    "#for name in range(1):\n",
    "    #plt.plot(cumsum_dict[name], ls='dotted', lw=1, color='b')\n",
    "plt.plot(mean_vec, ls='solid', lw=3, color='r', label='DATA')\n",
    "plt.plot(stable_mat, ls='--', lw=2, color='g', label='SBP')\n",
    "plt.plot(unstable_mat, ls='--', lw=2, color='m', label='BP')\n",
    "ax.set_xlabel('number of documents', size=14)\n",
    "ax.set_ylabel('cumulative number of words', size=14)\n",
    "ax.legend(loc='best',prop={'size': 12})\n",
    "plt.axis([0,5806,0,330000])\n",
    "plt.show()\n",
    "fig.savefig(\"neurips.pdf\", bbox_inches='tight')"
   ]
  },
  {
   "cell_type": "code",
   "execution_count": 75,
   "metadata": {},
   "outputs": [
    {
     "data": {
      "text/plain": [
       "array([   856.95,   1564.25,   2085.7 , ..., 323011.7 , 323052.95,\n",
       "       323093.  ])"
      ]
     },
     "execution_count": 75,
     "metadata": {},
     "output_type": "execute_result"
    }
   ],
   "source": [
    "mean_vec"
   ]
  },
  {
   "cell_type": "code",
   "execution_count": 76,
   "metadata": {},
   "outputs": [
    {
     "data": {
      "text/plain": [
       "array([   713.6,   1167.6,   1549.6, ..., 322874. , 322911.8, 322952.8])"
      ]
     },
     "execution_count": 76,
     "metadata": {},
     "output_type": "execute_result"
    }
   ],
   "source": [
    "stable_mat"
   ]
  },
  {
   "cell_type": "code",
   "execution_count": null,
   "metadata": {},
   "outputs": [],
   "source": []
  }
 ],
 "metadata": {
  "kernelspec": {
   "display_name": "Python 3",
   "language": "python",
   "name": "python3"
  },
  "language_info": {
   "codemirror_mode": {
    "name": "ipython",
    "version": 3
   },
   "file_extension": ".py",
   "mimetype": "text/x-python",
   "name": "python",
   "nbconvert_exporter": "python",
   "pygments_lexer": "ipython3",
   "version": "3.6.8"
  }
 },
 "nbformat": 4,
 "nbformat_minor": 2
}
