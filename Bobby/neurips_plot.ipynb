{
 "cells": [
  {
   "cell_type": "code",
   "execution_count": 15,
   "metadata": {},
   "outputs": [],
   "source": [
    "import numpy as np\n",
    "import pandas as pd\n",
    "import seaborn as sns \n",
    "import matplotlib.pyplot as plt\n",
    "import scipy as sp\n",
    "from scipy.io import mmread\n",
    "import mpmath as mp\n",
    "from scipy.optimize import minimize\n",
    "import time\n",
    "%matplotlib inline\n",
    "\n",
    "import sys\n",
    "\n",
    "from scipy.sparse import csr_matrix"
   ]
  },
  {
   "cell_type": "code",
   "execution_count": 141,
   "metadata": {},
   "outputs": [],
   "source": [
    "import random\n",
    "from collections import Counter"
   ]
  },
  {
   "cell_type": "code",
   "execution_count": 218,
   "metadata": {},
   "outputs": [],
   "source": [
    "test_mat = mmread(\"../data/nipspapersmatrix.mtx\")\n",
    "\n",
    "test_mat.data = np.ones(test_mat.data.size) # change all non-zero values to 1\n",
    "\n",
    "col_sums = test_mat.sum(axis=0)\n",
    "\n",
    "col_sums = np.asarray(col_sums)\n",
    "\n",
    "col_sums = col_sums.flatten() # Col sums ie number of documents where a given word appears\n",
    "\n",
    "col_sums = col_sums.astype(int) # careful as col_sums has float values not integers"
   ]
  },
  {
   "cell_type": "code",
   "execution_count": 266,
   "metadata": {},
   "outputs": [],
   "source": [
    "def csr_vappend(a,b):\n",
    "    \"\"\" Takes in 2 csr_matrices and appends the second one to the bottom of the first one. \n",
    "    Much faster than scipy.sparse.vstack but assumes the type to be csr and overwrites\n",
    "    the first matrix instead of copying it. The data, indices, and indptr still get copied.\"\"\"\n",
    "\n",
    "    a.data = np.hstack((a.data,b.data))\n",
    "    a.indices = np.hstack((a.indices,b.indices))\n",
    "    a.indptr = np.hstack((a.indptr,(b.indptr + a.nnz)[1:]))\n",
    "    a._shape = (a.shape[0]+b.shape[0],b.shape[1])\n",
    "    return(a)\n",
    "\n",
    "def stableibprnd(alpha, sigma, c, N, Jmax):\n",
    "    Z = np.zeros((1, Jmax))\n",
    "    m = np.zeros(Jmax) # col sums\n",
    "\n",
    "    # First object\n",
    "    \n",
    "    K = int(np.random.poisson(alpha, 1))\n",
    "    #print(K)\n",
    "    Z[0, range(K)] = 1\n",
    "    Z = csr_matrix(Z)\n",
    "    m[range(K)] = 1\n",
    "    for n in range(1, N):\n",
    "        vec = np.zeros((1, Jmax))\n",
    "        # Each object picks feature j w.p. (m_j-sigma)/(i-1 + c)\n",
    "        vec[0,range(K)] = ( np.random.uniform(0, 1, K) < ((m[range(K)]-sigma)/(n  + c)) )\n",
    "        # New features\n",
    "        Knew = np.random.poisson((alpha * mp.gamma(1 + c) * mp.gamma(n + c + sigma)) / (mp.gamma(n + 1 + c) * mp.gamma(c + sigma)))\n",
    "        if Knew>0:\n",
    "            vec[0, range(K,K+Knew)] = 1\n",
    "            m[range(K,K+Knew)] = 1\n",
    "    # Update the counts\n",
    "        m[range(K)] = m[range(K)]  + vec[0, range(K)]\n",
    "        #print(Knew)\n",
    "\n",
    "        K = K + Knew\n",
    "        if n % 500 ==0:\n",
    "            print(n)\n",
    "        vec = csr_matrix(vec)\n",
    "        csr_vappend(Z, vec)\n",
    "    return(Z)"
   ]
  },
  {
   "cell_type": "code",
   "execution_count": 282,
   "metadata": {},
   "outputs": [],
   "source": [
    "a = stableibprnd(10,0.45,0.2,10,1000)"
   ]
  },
  {
   "cell_type": "code",
   "execution_count": 279,
   "metadata": {},
   "outputs": [
    {
     "name": "stdout",
     "output_type": "stream",
     "text": [
      "500\n",
      "1000\n",
      "1500\n",
      "2000\n",
      "2500\n",
      "3000\n",
      "3500\n",
      "4000\n",
      "4500\n",
      "5000\n",
      "5500\n"
     ]
    }
   ],
   "source": [
    "Z_stable = stableibprnd(alpha = 721, c = -0.19, sigma = 0.71, N = 5806, Jmax = 350000)"
   ]
  },
  {
   "cell_type": "code",
   "execution_count": 295,
   "metadata": {},
   "outputs": [
    {
     "data": {
      "text/plain": [
       "array([      0,     711,    1419, ..., 4040115, 4040796, 4041513],\n",
       "      dtype=int32)"
      ]
     },
     "execution_count": 295,
     "metadata": {},
     "output_type": "execute_result"
    }
   ],
   "source": [
    "Z_stable.indptr"
   ]
  },
  {
   "cell_type": "code",
   "execution_count": 288,
   "metadata": {},
   "outputs": [
    {
     "name": "stdout",
     "output_type": "stream",
     "text": [
      "500\n",
      "1000\n",
      "1500\n",
      "2000\n",
      "2500\n",
      "3000\n",
      "3500\n",
      "4000\n",
      "4500\n",
      "5000\n",
      "5500\n"
     ]
    }
   ],
   "source": [
    "Z_unstable = stableibprnd(alpha = 1168, c = 60.3, sigma = 0, N = 5806, Jmax = 400000)"
   ]
  },
  {
   "cell_type": "code",
   "execution_count": 241,
   "metadata": {},
   "outputs": [
    {
     "data": {
      "text/plain": [
       "mpf('322973.13245051116')"
      ]
     },
     "execution_count": 241,
     "metadata": {},
     "output_type": "execute_result"
    }
   ],
   "source": [
    "alpha = 1168\n",
    "sigma = 0\n",
    "c = 60.3\n",
    "sum([alpha *mp.gamma(1 + c) * mp.gamma(i - 1 + c + sigma) / (mp.gamma(i + c) * mp.gamma(c + sigma)) for i in range(1,5806)])"
   ]
  },
  {
   "cell_type": "code",
   "execution_count": 221,
   "metadata": {},
   "outputs": [
    {
     "data": {
      "text/plain": [
       "[<matplotlib.lines.Line2D at 0x7fc1eed68b70>]"
      ]
     },
     "execution_count": 221,
     "metadata": {},
     "output_type": "execute_result"
    },
    {
     "data": {
      "image/png": "[encoded data removed]",
      "text/plain": [
       "<Figure size 432x288 with 1 Axes>"
      ]
     },
     "metadata": {},
     "output_type": "display_data"
    }
   ],
   "source": [
    "# hacky way, the data is present top to bottom, left to right, so new words correspond to when the column index changes\n",
    "new_word_ind = np.append(0,np.where(test_mat.col - np.roll(test_mat.col,1)>0)[0])\n",
    "# find the rows/documents where the new words occur\n",
    "new_word_rows = test_mat.row[new_word_ind]\n",
    "# find the table of valuies in the new_word_rows\n",
    "freq = Counter(new_word_rows)\n",
    "# sort the rows so that row labelled 0 is counted first\n",
    "sorted(freq.items(), key=lambda i: i[0])\n",
    "sns.set()\n",
    "plt.plot(range(len(list(freq.values()))), np.cumsum(list(freq.values())))"
   ]
  }
 ],
 "metadata": {
  "kernelspec": {
   "display_name": "Python 3",
   "language": "python",
   "name": "python3"
  },
  "language_info": {
   "codemirror_mode": {
    "name": "ipython",
    "version": 3
   },
   "file_extension": ".py",
   "mimetype": "text/x-python",
   "name": "python",
   "nbconvert_exporter": "python",
   "pygments_lexer": "ipython3",
   "version": "3.6.8"
  }
 },
 "nbformat": 4,
 "nbformat_minor": 2
}
