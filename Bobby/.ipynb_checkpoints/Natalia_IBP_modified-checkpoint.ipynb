{
 "cells": [
  {
   "cell_type": "markdown",
   "metadata": {},
   "source": [
    "# Stable-beta Indian Buffet Process"
   ]
  },
  {
   "cell_type": "markdown",
   "metadata": {},
   "source": [
    "### Loading packages"
   ]
  },
  {
   "cell_type": "code",
   "execution_count": 2,
   "metadata": {
    "collapsed": true
   },
   "outputs": [],
   "source": [
    "import numpy as np\n",
    "import pandas as pd\n",
    "import seaborn as sns \n",
    "import matplotlib.pyplot as plt\n",
    "import scipy as sp\n",
    "from scipy.io import mmread\n",
    "%matplotlib inline"
   ]
  },
  {
   "cell_type": "markdown",
   "metadata": {},
   "source": [
    "### Reading data"
   ]
  },
  {
   "cell_type": "markdown",
   "metadata": {},
   "source": [
    "# Bobby's changes start here"
   ]
  },
  {
   "cell_type": "code",
   "execution_count": 3,
   "metadata": {},
   "outputs": [],
   "source": [
    "test_mat = mmread(\"../data/nipspapersmatrix.mtx\")"
   ]
  },
  {
   "cell_type": "code",
   "execution_count": 4,
   "metadata": {},
   "outputs": [
    {
     "data": {
      "text/plain": [
       "scipy.sparse.coo.coo_matrix"
      ]
     },
     "execution_count": 4,
     "metadata": {},
     "output_type": "execute_result"
    }
   ],
   "source": [
    "type(test_mat)"
   ]
  },
  {
   "cell_type": "code",
   "execution_count": 5,
   "metadata": {},
   "outputs": [],
   "source": [
    "test_mat.data = np.ones(test_mat.data.size) # change all non-zero values to 1"
   ]
  },
  {
   "cell_type": "code",
   "execution_count": 6,
   "metadata": {},
   "outputs": [],
   "source": [
    "col_sums = test_mat.sum(axis=0)"
   ]
  },
  {
   "cell_type": "code",
   "execution_count": 7,
   "metadata": {},
   "outputs": [],
   "source": [
    "col_sums = np.asarray(col_sums)"
   ]
  },
  {
   "cell_type": "code",
   "execution_count": 8,
   "metadata": {},
   "outputs": [],
   "source": [
    "col_sums = col_sums.flatten() # Col sums ie number of documents where a given word appears"
   ]
  },
  {
   "cell_type": "code",
   "execution_count": 9,
   "metadata": {},
   "outputs": [
    {
     "data": {
      "text/plain": [
       "array([1.701e+03, 3.767e+03, 5.792e+03, ..., 1.000e+00, 1.000e+00,\n",
       "       1.000e+00])"
      ]
     },
     "execution_count": 9,
     "metadata": {},
     "output_type": "execute_result"
    }
   ],
   "source": [
    "col_sums"
   ]
  },
  {
   "cell_type": "code",
   "execution_count": 10,
   "metadata": {},
   "outputs": [
    {
     "data": {
      "text/plain": [
       "(323093,)"
      ]
     },
     "execution_count": 10,
     "metadata": {},
     "output_type": "execute_result"
    }
   ],
   "source": [
    "col_sums.shape"
   ]
  },
  {
   "cell_type": "code",
   "execution_count": 14,
   "metadata": {},
   "outputs": [
    {
     "data": {
      "text/plain": [
       "numpy.float64"
      ]
     },
     "execution_count": 14,
     "metadata": {},
     "output_type": "execute_result"
    }
   ],
   "source": [
    "type(col_sums[0]) # careful as col_sums has float values not integers"
   ]
  },
  {
   "cell_type": "code",
   "execution_count": 15,
   "metadata": {},
   "outputs": [
    {
     "data": {
      "text/plain": [
       "array([1701, 3767, 5792, ...,    1,    1,    1])"
      ]
     },
     "execution_count": 15,
     "metadata": {},
     "output_type": "execute_result"
    }
   ],
   "source": [
    "col_sums.astype(int)"
   ]
  },
  {
   "cell_type": "code",
   "execution_count": 12,
   "metadata": {},
   "outputs": [
    {
     "data": {
      "text/plain": [
       "323093"
      ]
     },
     "execution_count": 12,
     "metadata": {},
     "output_type": "execute_result"
    }
   ],
   "source": [
    "len(col_sums)"
   ]
  },
  {
   "cell_type": "code",
   "execution_count": 13,
   "metadata": {},
   "outputs": [
    {
     "data": {
      "text/plain": [
       "0"
      ]
     },
     "execution_count": 13,
     "metadata": {},
     "output_type": "execute_result"
    }
   ],
   "source": [
    "sum(col_sums==0)"
   ]
  },
  {
   "cell_type": "markdown",
   "metadata": {},
   "source": [
    "# Bobby's changes finished"
   ]
  },
  {
   "cell_type": "markdown",
   "metadata": {},
   "source": [
    "### Writing likelihood function"
   ]
  },
  {
   "cell_type": "code",
   "execution_count": 302,
   "metadata": {},
   "outputs": [],
   "source": [
    "#' Fit parameters by maximum likelihood\n",
    "#'\n",
    "#' Calculate the log-likelihood\n",
    "#'\n",
    "#' @param Z matrix whose rows correspond to customers and columns to dishes\n",
    "#' @param alpha mass parameter\n",
    "#' @param c concentration parameter\n",
    "#' @param sigma stability exponent\n",
    "#' @return The log-likelihood of binary matrices Z1,...,Zn\n",
    "\n",
    "\n",
    "# modified to make calculations easier by using log gamma for the second term, but for the first term we need gamma\n",
    "# however gamma gives very large values that cannot be stored\n",
    "\n",
    "def L(Z, alpha, c, sigma):\n",
    "  n = Z.shape[0] # number of rows\n",
    "  vector = np.array(range(1,n+1))  # need to say 1, n+1 to get 1:n\n",
    "  exponent_vec = (sp.special.gamma(1 + c) * sp.special.gamma(vector - 1 + c + sigma)) / (sp.special.gamma(vector + c) * sp.special.gamma(c + sigma))\n",
    "  m = np.asarray(Z.sum(axis=0)).flatten()  # sum of columns\n",
    "  K = len(m)\n",
    "  prod_vec = (sp.special.loggamma(m - sigma) + sp.special.loggamma(n - m + c + sigma) + sp.special.loggamma(1 + c)) - (sp.special.loggamma(1 - sigma) + sp.special.loggamma(c + sigma) + sp.special.loggamma(n + c))\n",
    "  loglikelihood = (-alpha * sum(exponent_vec)) + sum(prod_vec) + K* np.log(alpha)\n",
    "  return(loglikelihood)"
   ]
  },
  {
   "cell_type": "code",
   "execution_count": 303,
   "metadata": {
    "collapsed": true
   },
   "outputs": [],
   "source": [
    "# mp gamma that deals with large number doesnt accept an array as input so need to include a loop\n",
    "\n",
    "def loglik(Z, alpha, c, sigma):\n",
    "  n = Z.shape[0] # number of rows\n",
    "  exponent_vec = np.zeros(n)\n",
    "  for i in range(1, n+1): # need to say 1, n+1 to get 1:n\n",
    "        exponent_vec[i-1] = (mp.gamma(1 + c) * mp.gamma(i - 1 + c + sigma)) / (mp.gamma(i + c) * mp.gamma(c + sigma))\n",
    "  m = np.asarray(Z.sum(axis=0)).flatten()  # sum of columns\n",
    "  K = len(m)\n",
    "  prod_vec = (sp.special.loggamma(m - sigma) + sp.special.loggamma(n - m + c + sigma) + sp.special.loggamma(1 + c)) - (sp.special.loggamma(1 - sigma) + sp.special.loggamma(c + sigma) + sp.special.loggamma(n + c))\n",
    "  loglikelihood = (-alpha * sum(exponent_vec)) + sum(prod_vec) + K* np.log(alpha)\n",
    "  return(loglikelihood)"
   ]
  },
  {
   "cell_type": "code",
   "execution_count": 306,
   "metadata": {},
   "outputs": [
    {
     "data": {
      "text/plain": [
       "(-7.7927508603023306+0j)"
      ]
     },
     "execution_count": 306,
     "metadata": {},
     "output_type": "execute_result"
    }
   ],
   "source": [
    "# Easy 4x4 example to check that code works\n",
    "\n",
    "c=1\n",
    "alpha=1\n",
    "sigma=0.5\n",
    "\n",
    "Z= np.array([[ 0.,  1.,  0.,  1.],\n",
    "       [ 0.,  0.,  0.,  1.],\n",
    "       [ 1.,  0.,  0.,  1.],\n",
    "       [ 0.,  0.,  1.,  0.]])\n",
    "\n",
    "loglik(Z, 1, 1, 0.5)\n",
    "L(Z, 1, 1, 0.5)"
   ]
  },
  {
   "cell_type": "code",
   "execution_count": 288,
   "metadata": {},
   "outputs": [
    {
     "name": "stdout",
     "output_type": "stream",
     "text": [
      "(-15537511.598+0j)\n"
     ]
    }
   ],
   "source": [
    "Z = dense_mat\n",
    "c=1\n",
    "alpha=1\n",
    "sigma=0.5\n",
    "\n",
    "loglik(Z, 1, 1, 0.5)"
   ]
  },
  {
   "cell_type": "markdown",
   "metadata": {},
   "source": [
    "### Maximise log likelihood "
   ]
  },
  {
   "cell_type": "code",
   "execution_count": 289,
   "metadata": {
    "collapsed": true
   },
   "outputs": [],
   "source": [
    "from scipy.optimize import minimize"
   ]
  },
  {
   "cell_type": "code",
   "execution_count": 307,
   "metadata": {
    "collapsed": true
   },
   "outputs": [],
   "source": [
    "def negloglik(param):\n",
    "  alpha = param[0]\n",
    "  c = param[1]\n",
    "  sigma = param[2]\n",
    "  Z = dense_mat\n",
    "  n = Z.shape[0] # number of rows\n",
    "  exponent_vec = np.zeros(n)\n",
    "  for i in range(1, n+1): # need to say 1, n+1 to get 1:n\n",
    "        exponent_vec[i-1] = (mp.gamma(1 + c) * mp.gamma(i - 1 + c + sigma)) / (mp.gamma(i + c) * mp.gamma(c + sigma))\n",
    "  m = np.asarray(Z.sum(axis=0)).flatten()  # sum of columns\n",
    "  K = len(m)\n",
    "  prod_vec = (sp.special.loggamma(m - sigma) + sp.special.loggamma(n - m + c + sigma) + sp.special.loggamma(1 + c)) - (sp.special.loggamma(1 - sigma) + sp.special.loggamma(c + sigma) + sp.special.loggamma(n + c))\n",
    "  loglikelihood = (-alpha * sum(exponent_vec)) + sum(prod_vec) + K* np.log(alpha)\n",
    "  return(-loglikelihood)"
   ]
  },
  {
   "cell_type": "code",
   "execution_count": 295,
   "metadata": {},
   "outputs": [],
   "source": [
    "initial = np.array([1, 1, 0.5])"
   ]
  },
  {
   "cell_type": "code",
   "execution_count": 329,
   "metadata": {},
   "outputs": [
    {
     "name": "stderr",
     "output_type": "stream",
     "text": [
      "C:\\Users\\Nati\\Anaconda3\\lib\\site-packages\\scipy\\optimize\\optimize.py:628: ComplexWarning: Casting complex values to real discards the imaginary part\n",
      "  grad[k] = (f(*((xk + d,) + args)) - f0) / d[k]\n",
      "C:\\Users\\Nati\\Anaconda3\\lib\\site-packages\\scipy\\optimize\\lbfgsb.py:321: ComplexWarning: Casting complex values to real discards the imaginary part\n",
      "  isave, dsave, maxls)\n"
     ]
    }
   ],
   "source": [
    "result = minimize(negloglik, initial, bounds=((0, None), (None, None), (0, 1)))"
   ]
  },
  {
   "cell_type": "code",
   "execution_count": 335,
   "metadata": {},
   "outputs": [
    {
     "data": {
      "text/plain": [
       "      fun: (nan+nan*j)\n",
       " hess_inv: <3x3 LbfgsInvHessProduct with dtype=float64>\n",
       "      jac: array([ -166529.41703796,  -110765.7328248 , -2383899.6887207 ])\n",
       "  message: b'ABNORMAL_TERMINATION_IN_LNSRCH'\n",
       "     nfev: 168\n",
       "      nit: 1\n",
       "   status: 2\n",
       "  success: False\n",
       "        x: array([ 1.93793088,  1.34682223,  0.50000145])"
      ]
     },
     "execution_count": 335,
     "metadata": {},
     "output_type": "execute_result"
    }
   ],
   "source": [
    "result"
   ]
  }
 ],
 "metadata": {
  "kernelspec": {
   "display_name": "Python 3",
   "language": "python",
   "name": "python3"
  },
  "language_info": {
   "codemirror_mode": {
    "name": "ipython",
    "version": 3
   },
   "file_extension": ".py",
   "mimetype": "text/x-python",
   "name": "python",
   "nbconvert_exporter": "python",
   "pygments_lexer": "ipython3",
   "version": "3.6.7"
  }
 },
 "nbformat": 4,
 "nbformat_minor": 2
}
