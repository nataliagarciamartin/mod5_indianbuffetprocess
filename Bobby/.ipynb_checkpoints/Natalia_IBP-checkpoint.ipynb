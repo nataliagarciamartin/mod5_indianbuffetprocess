{
 "cells": [
  {
   "cell_type": "markdown",
   "metadata": {},
   "source": [
    "# Stable-beta Indian Buffet Process"
   ]
  },
  {
   "cell_type": "markdown",
   "metadata": {},
   "source": [
    "### Loading packages"
   ]
  },
  {
   "cell_type": "code",
   "execution_count": 1,
   "metadata": {},
   "outputs": [],
   "source": [
    "import numpy as np\n",
    "import pandas as pd\n",
    "import seaborn as sns \n",
    "import matplotlib.pyplot as plt\n",
    "import scipy as sp\n",
    "from scipy.io import mmread\n",
    "import mpmath as mp\n",
    "from scipy.optimize import minimize\n",
    "%matplotlib inline"
   ]
  },
  {
   "cell_type": "markdown",
   "metadata": {},
   "source": [
    "### Reading data"
   ]
  },
  {
   "cell_type": "code",
   "execution_count": 2,
   "metadata": {},
   "outputs": [
    {
     "data": {
      "text/plain": [
       "array([1701, 3767, 5792, ...,    1,    1,    1])"
      ]
     },
     "execution_count": 2,
     "metadata": {},
     "output_type": "execute_result"
    }
   ],
   "source": [
    "test_mat = mmread(\"../data/nipspapersmatrix.mtx\")\n",
    "\n",
    "type(test_mat)\n",
    "\n",
    "test_mat.data = np.ones(test_mat.data.size) # change all non-zero values to 1\n",
    "\n",
    "col_sums = test_mat.sum(axis=0)\n",
    "\n",
    "col_sums = np.asarray(col_sums)\n",
    "\n",
    "col_sums = col_sums.flatten() # Col sums ie number of documents where a given word appears\n",
    "\n",
    "col_sums = col_sums.astype(int) # careful as col_sums has float values not integers\n",
    "\n",
    "col_sums"
   ]
  },
  {
   "cell_type": "markdown",
   "metadata": {},
   "source": [
    "### Writing likelihood function"
   ]
  },
  {
   "cell_type": "code",
   "execution_count": 3,
   "metadata": {},
   "outputs": [],
   "source": [
    "#' Fit parameters by maximum likelihood\n",
    "#'\n",
    "#' Calculate the log-likelihood\n",
    "#'\n",
    "#' @param Z matrix whose rows correspond to customers and columns to dishes\n",
    "#' @param alpha mass parameter\n",
    "#' @param c concentration parameter\n",
    "#' @param sigma stability exponent\n",
    "#' @return The log-likelihood of binary matrices Z1,...,Zn\n",
    "\n",
    "\n",
    "# modified to make calculations easier by using log gamma for the second term, but for the first term we need gamma\n",
    "# however gamma gives very large values that cannot be stored\n",
    "\n",
    "def L(Z, alpha, c, sigma):\n",
    "  n = Z.shape[0] # number of rows\n",
    "  vector = np.array(range(1,n+1))  # need to say 1, n+1 to get 1:n\n",
    "  exponent_vec = (sp.special.gamma(1 + c) * sp.special.gamma(vector - 1 + c + sigma)) / (sp.special.gamma(vector + c) * sp.special.gamma(c + sigma))\n",
    "  m = np.asarray(Z.sum(axis=0)).flatten().astype(int)  # sum of columns\n",
    "  K = len(m)\n",
    "  prod_vec = (sp.special.loggamma(m - sigma) + sp.special.loggamma(n - m + c + sigma) + sp.special.loggamma(1 + c)) - (sp.special.loggamma(1 - sigma) + sp.special.loggamma(c + sigma) + sp.special.loggamma(n + c))\n",
    "  loglikelihood = (-alpha * sum(exponent_vec)) + sum(prod_vec) + K* np.log(alpha)\n",
    "  return(loglikelihood)"
   ]
  },
  {
   "cell_type": "code",
   "execution_count": 4,
   "metadata": {},
   "outputs": [],
   "source": [
    "# mp gamma that deals with large number doesnt accept an array as input so need to include a loop\n",
    "\n",
    "def loglik(Z, alpha, c, sigma):\n",
    "  n = Z.shape[0] # number of rows\n",
    "  exponent_vec = np.zeros(n)\n",
    "  for i in range(1, n+1): # need to say 1, n+1 to get 1:n\n",
    "        exponent_vec[i-1] = (mp.gamma(1 + c) * mp.gamma(i - 1 + c + sigma)) / (mp.gamma(i + c) * mp.gamma(c + sigma))\n",
    "  m = np.asarray(Z.sum(axis=0)).flatten().astype(int)  # sum of columns\n",
    "  K = len(m)\n",
    "  prod_vec = (sp.special.loggamma(m - sigma) + sp.special.loggamma(n - m + c + sigma) + sp.special.loggamma(1 + c)) - (sp.special.loggamma(1 - sigma) + sp.special.loggamma(c + sigma) + sp.special.loggamma(n + c))\n",
    "  loglikelihood = (-alpha * sum(exponent_vec)) + sum(prod_vec) + K* np.log(alpha)\n",
    "  return(loglikelihood)"
   ]
  },
  {
   "cell_type": "code",
   "execution_count": 7,
   "metadata": {},
   "outputs": [
    {
     "name": "stdout",
     "output_type": "stream",
     "text": [
      "(-7.7927508603023306+0j)\n"
     ]
    },
    {
     "data": {
      "text/plain": [
       "(-7.7927508603023306+0j)"
      ]
     },
     "execution_count": 7,
     "metadata": {},
     "output_type": "execute_result"
    }
   ],
   "source": [
    "# Easy 4x4 example to check that code works\n",
    "\n",
    "c=1\n",
    "alpha=1\n",
    "sigma=0.5\n",
    "\n",
    "Z= np.array([[ 0.,  1.,  0.,  1.],\n",
    "       [ 0.,  0.,  0.,  1.],\n",
    "       [ 1.,  0.,  0.,  1.],\n",
    "       [ 0.,  0.,  1.,  0.]])\n",
    "\n",
    "print(loglik(Z, 1, 1, 0.5))\n",
    "L(Z, 1, 1, 0.5)"
   ]
  },
  {
   "cell_type": "code",
   "execution_count": 8,
   "metadata": {},
   "outputs": [
    {
     "data": {
      "text/plain": [
       "(-13403710.842720993+0j)"
      ]
     },
     "execution_count": 8,
     "metadata": {},
     "output_type": "execute_result"
    }
   ],
   "source": [
    "Z = test_mat\n",
    "c=1\n",
    "alpha=1\n",
    "sigma=0.5\n",
    "\n",
    "loglik(Z, 200, 4, 0.8)\n"
   ]
  },
  {
   "cell_type": "markdown",
   "metadata": {},
   "source": [
    "### Grid search"
   ]
  },
  {
   "cell_type": "code",
   "execution_count": 127,
   "metadata": {},
   "outputs": [],
   "source": [
    "sigma =[0, 0.1, 0.15, 0.2, 0.25, 0.3, 0.35, 0.4, 0.45, 0.5, 0.55, 0.6, 0.65, 0.7, 0.75, 0.8, 0.85, 0.9, 0.95, 1]\n",
    "c = [1, 2, 2.5, 3, 3.5, 4, 4.5, 5, 5.5, 6, 7, 8, 9, 10, 11, 12, 13, 14, 15, 20]\n",
    "alpha = [110, 120, 130, 140, 150, 160, 170, 180, 190, 200, 210, 220, 230, 240, 250, 260, 270, 280, 290, 300]\n",
    "\n",
    "# 20 values of sigma, 20 values of c, 20 values of alpha"
   ]
  },
  {
   "cell_type": "code",
   "execution_count": 128,
   "metadata": {},
   "outputs": [
    {
     "data": {
      "text/plain": [
       "[(-13393643.477834571+0j), 290, 2, 0.75]"
      ]
     },
     "execution_count": 128,
     "metadata": {},
     "output_type": "execute_result"
    }
   ],
   "source": [
    "result =[-20000000, 0, 0, 0]\n",
    "for i in range(len(sigma)):\n",
    "    for j in range(len(c)):\n",
    "        for k in range(len(alpha)):\n",
    "            if loglik(Z, alpha[k], c[j], sigma[i]) > result[0]:\n",
    "                result[0] = loglik(Z, alpha[k], c[j], sigma[i])\n",
    "                result[1] = alpha[k]\n",
    "                result[2] = c[j]\n",
    "                result[3] = sigma[i]\n",
    "result"
   ]
  },
  {
   "cell_type": "code",
   "execution_count": 144,
   "metadata": {},
   "outputs": [
    {
     "data": {
      "text/plain": [
       "[(-13392564.574693548+0j), 315, 2.3, 0.73]"
      ]
     },
     "execution_count": 144,
     "metadata": {},
     "output_type": "execute_result"
    }
   ],
   "source": [
    "sigma =[0.73, 0.74, 0.75]\n",
    "c = [1.5, 1.6, 1.7, 1.8, 1.9, 2, 2.1, 2.2, 2.3]\n",
    "alpha = [290, 291, 292, 293, 294, 295, 296, 297, 298, 299, 300, 301, 302, 303, 304, 305, 306, 307, 308, 309, 310, 311, 312, 313, 314, 315]\n",
    "\n",
    "result2 =[-20000000, 0, 0, 0]\n",
    "for i in range(len(sigma)):\n",
    "    for j in range(len(c)):\n",
    "        for k in range(len(alpha)):\n",
    "            if loglik(Z, alpha[k], c[j], sigma[i]) > result2[0]:\n",
    "                result2[0] = loglik(Z, alpha[k], c[j], sigma[i])\n",
    "                result2[1] = alpha[k]\n",
    "                result2[2] = c[j]\n",
    "                result2[3] = sigma[i]\n",
    "result2"
   ]
  },
  {
   "cell_type": "code",
   "execution_count": 145,
   "metadata": {},
   "outputs": [
    {
     "data": {
      "text/plain": [
       "[(-13392283.417116964+0j), 326, 2, 0.73]"
      ]
     },
     "execution_count": 145,
     "metadata": {},
     "output_type": "execute_result"
    }
   ],
   "source": [
    "sigma =[0.73, 0.74, 0.75]\n",
    "c = [1.5, 1.6, 1.7, 1.8, 1.9, 2, 2.1, 2.2, 2.3]\n",
    "alpha = [314, 315, 316, 317, 318, 319, 320, 321, 322, 323, 324, 325, 326]\n",
    "\n",
    "result2 =[-20000000, 0, 0, 0]\n",
    "for i in range(len(sigma)):\n",
    "    for j in range(len(c)):\n",
    "        for k in range(len(alpha)):\n",
    "            if loglik(Z, alpha[k], c[j], sigma[i]) > result2[0]:\n",
    "                result2[0] = loglik(Z, alpha[k], c[j], sigma[i])\n",
    "                result2[1] = alpha[k]\n",
    "                result2[2] = c[j]\n",
    "                result2[3] = sigma[i]\n",
    "result2"
   ]
  },
  {
   "cell_type": "code",
   "execution_count": 146,
   "metadata": {},
   "outputs": [
    {
     "data": {
      "text/plain": [
       "[(-13391984.899973627+0j), 340, 1.7, 0.73]"
      ]
     },
     "execution_count": 146,
     "metadata": {},
     "output_type": "execute_result"
    }
   ],
   "source": [
    "sigma =[0.73, 0.74, 0.75]\n",
    "c = [1.5, 1.6, 1.7, 1.8, 1.9, 2, 2.1, 2.2, 2.3]\n",
    "alpha = [327, 328, 329, 330, 331, 332, 333, 334, 335, 336, 337, 338, 339, 340]\n",
    "\n",
    "result2 =[-20000000, 0, 0, 0]\n",
    "for i in range(len(sigma)):\n",
    "    for j in range(len(c)):\n",
    "        for k in range(len(alpha)):\n",
    "            if loglik(Z, alpha[k], c[j], sigma[i]) > result2[0]:\n",
    "                result2[0] = loglik(Z, alpha[k], c[j], sigma[i])\n",
    "                result2[1] = alpha[k]\n",
    "                result2[2] = c[j]\n",
    "                result2[3] = sigma[i]\n",
    "result2"
   ]
  },
  {
   "cell_type": "markdown",
   "metadata": {},
   "source": [
    "### Maximise log likelihood "
   ]
  },
  {
   "cell_type": "code",
   "execution_count": 13,
   "metadata": {
    "collapsed": true
   },
   "outputs": [],
   "source": [
    "from scipy.optimize import minimize"
   ]
  },
  {
   "cell_type": "code",
   "execution_count": 33,
   "metadata": {
    "collapsed": true
   },
   "outputs": [],
   "source": [
    "def negloglik(param):\n",
    "  alpha = param[0]\n",
    "  c = param[1]\n",
    "  sigma = param[2]\n",
    "  Z = test_mat\n",
    "  n = Z.shape[0] # number of rows\n",
    "  exponent_vec = np.zeros(n)\n",
    "  for i in range(1, n+1): # need to say 1, n+1 to get 1:n\n",
    "        exponent_vec[i-1] = (mp.gamma(1 + c) * mp.gamma(i - 1 + c + sigma)) / (mp.gamma(i + c) * mp.gamma(c + sigma))\n",
    "  m = np.asarray(Z.sum(axis=0)).flatten().astype(int)  # sum of columns\n",
    "  K = len(m)\n",
    "  prod_vec = (sp.special.loggamma(m - sigma) + sp.special.loggamma(n - m + c + sigma) + sp.special.loggamma(1 + c)) - (sp.special.loggamma(1 - sigma) + sp.special.loggamma(c + sigma) + sp.special.loggamma(n + c))\n",
    "  loglikelihood = (-alpha * sum(exponent_vec)) + sum(prod_vec) + K* np.log(alpha)\n",
    "  return(-loglikelihood)"
   ]
  },
  {
   "cell_type": "code",
   "execution_count": 140,
   "metadata": {
    "collapsed": true
   },
   "outputs": [],
   "source": [
    "initial = np.array([293, 2.3, 0.74])"
   ]
  },
  {
   "cell_type": "code",
   "execution_count": 141,
   "metadata": {},
   "outputs": [
    {
     "name": "stderr",
     "output_type": "stream",
     "text": [
      "C:\\Users\\Nati\\Anaconda3\\lib\\site-packages\\scipy\\optimize\\optimize.py:628: ComplexWarning: Casting complex values to real discards the imaginary part\n",
      "  grad[k] = (f(*((xk + d,) + args)) - f0) / d[k]\n",
      "C:\\Users\\Nati\\Anaconda3\\lib\\site-packages\\scipy\\optimize\\lbfgsb.py:321: ComplexWarning: Casting complex values to real discards the imaginary part\n",
      "  isave, dsave, maxls)\n"
     ]
    },
    {
     "data": {
      "text/plain": [
       "      fun: (13393269.071940102-0j)\n",
       " hess_inv: <3x3 LbfgsInvHessProduct with dtype=float64>\n",
       "      jac: array([   -36.88037395,  24460.06983519,  20848.58715534])\n",
       "  message: b'CONVERGENCE: REL_REDUCTION_OF_F_<=_FACTR*EPSMCH'\n",
       "     nfev: 120\n",
       "      nit: 4\n",
       "   status: 0\n",
       "  success: True\n",
       "        x: array([ 293.00015755,    2.37871351,    0.73931492])"
      ]
     },
     "execution_count": 141,
     "metadata": {},
     "output_type": "execute_result"
    }
   ],
   "source": [
    "result_min = minimize(negloglik, initial, bounds=((0, None), (None, None), (0, 1)))\n",
    "result_min"
   ]
  }
 ],
 "metadata": {
  "kernelspec": {
   "display_name": "Python 3",
   "language": "python",
   "name": "python3"
  },
  "language_info": {
   "codemirror_mode": {
    "name": "ipython",
    "version": 3
   },
   "file_extension": ".py",
   "mimetype": "text/x-python",
   "name": "python",
   "nbconvert_exporter": "python",
   "pygments_lexer": "ipython3",
   "version": "3.6.8"
  }
 },
 "nbformat": 4,
 "nbformat_minor": 2
}
